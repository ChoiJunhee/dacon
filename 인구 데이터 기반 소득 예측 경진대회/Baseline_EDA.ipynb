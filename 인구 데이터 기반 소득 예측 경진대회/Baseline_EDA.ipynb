{
 "cells": [
  {
   "cell_type": "code",
   "execution_count": 1,
   "id": "21d941a3",
   "metadata": {},
   "outputs": [],
   "source": [
    "import pandas as pd\n",
    "import matplotlib.pyplot as plt\n",
    "import seaborn as sns\n",
    "\n",
    "from matplotlib import patches"
   ]
  },
  {
   "cell_type": "code",
   "execution_count": 2,
   "id": "c07f62e2",
   "metadata": {},
   "outputs": [],
   "source": [
    "train = pd.read_csv('./train.csv')"
   ]
  },
  {
   "cell_type": "code",
   "execution_count": 3,
   "id": "e586c929",
   "metadata": {},
   "outputs": [
    {
     "data": {
      "text/html": [
       "<div>\n",
       "<style scoped>\n",
       "    .dataframe tbody tr th:only-of-type {\n",
       "        vertical-align: middle;\n",
       "    }\n",
       "\n",
       "    .dataframe tbody tr th {\n",
       "        vertical-align: top;\n",
       "    }\n",
       "\n",
       "    .dataframe thead th {\n",
       "        text-align: right;\n",
       "    }\n",
       "</style>\n",
       "<table border=\"1\" class=\"dataframe\">\n",
       "  <thead>\n",
       "    <tr style=\"text-align: right;\">\n",
       "      <th></th>\n",
       "      <th>id</th>\n",
       "      <th>age</th>\n",
       "      <th>workclass</th>\n",
       "      <th>fnlwgt</th>\n",
       "      <th>education</th>\n",
       "      <th>education.num</th>\n",
       "      <th>marital.status</th>\n",
       "      <th>occupation</th>\n",
       "      <th>relationship</th>\n",
       "      <th>race</th>\n",
       "      <th>sex</th>\n",
       "      <th>capital.gain</th>\n",
       "      <th>capital.loss</th>\n",
       "      <th>hours.per.week</th>\n",
       "      <th>native.country</th>\n",
       "      <th>target</th>\n",
       "    </tr>\n",
       "  </thead>\n",
       "  <tbody>\n",
       "    <tr>\n",
       "      <th>0</th>\n",
       "      <td>0</td>\n",
       "      <td>32</td>\n",
       "      <td>Private</td>\n",
       "      <td>309513</td>\n",
       "      <td>Assoc-acdm</td>\n",
       "      <td>12</td>\n",
       "      <td>Married-civ-spouse</td>\n",
       "      <td>Craft-repair</td>\n",
       "      <td>Husband</td>\n",
       "      <td>White</td>\n",
       "      <td>Male</td>\n",
       "      <td>0</td>\n",
       "      <td>0</td>\n",
       "      <td>40</td>\n",
       "      <td>United-States</td>\n",
       "      <td>0</td>\n",
       "    </tr>\n",
       "    <tr>\n",
       "      <th>1</th>\n",
       "      <td>1</td>\n",
       "      <td>33</td>\n",
       "      <td>Private</td>\n",
       "      <td>205469</td>\n",
       "      <td>Some-college</td>\n",
       "      <td>10</td>\n",
       "      <td>Married-civ-spouse</td>\n",
       "      <td>Exec-managerial</td>\n",
       "      <td>Husband</td>\n",
       "      <td>White</td>\n",
       "      <td>Male</td>\n",
       "      <td>0</td>\n",
       "      <td>0</td>\n",
       "      <td>40</td>\n",
       "      <td>United-States</td>\n",
       "      <td>1</td>\n",
       "    </tr>\n",
       "    <tr>\n",
       "      <th>2</th>\n",
       "      <td>2</td>\n",
       "      <td>46</td>\n",
       "      <td>Private</td>\n",
       "      <td>149949</td>\n",
       "      <td>Some-college</td>\n",
       "      <td>10</td>\n",
       "      <td>Married-civ-spouse</td>\n",
       "      <td>Craft-repair</td>\n",
       "      <td>Husband</td>\n",
       "      <td>White</td>\n",
       "      <td>Male</td>\n",
       "      <td>0</td>\n",
       "      <td>0</td>\n",
       "      <td>40</td>\n",
       "      <td>United-States</td>\n",
       "      <td>0</td>\n",
       "    </tr>\n",
       "    <tr>\n",
       "      <th>3</th>\n",
       "      <td>3</td>\n",
       "      <td>23</td>\n",
       "      <td>Private</td>\n",
       "      <td>193090</td>\n",
       "      <td>Bachelors</td>\n",
       "      <td>13</td>\n",
       "      <td>Never-married</td>\n",
       "      <td>Adm-clerical</td>\n",
       "      <td>Own-child</td>\n",
       "      <td>White</td>\n",
       "      <td>Female</td>\n",
       "      <td>0</td>\n",
       "      <td>0</td>\n",
       "      <td>30</td>\n",
       "      <td>United-States</td>\n",
       "      <td>0</td>\n",
       "    </tr>\n",
       "    <tr>\n",
       "      <th>4</th>\n",
       "      <td>4</td>\n",
       "      <td>55</td>\n",
       "      <td>Private</td>\n",
       "      <td>60193</td>\n",
       "      <td>HS-grad</td>\n",
       "      <td>9</td>\n",
       "      <td>Divorced</td>\n",
       "      <td>Adm-clerical</td>\n",
       "      <td>Not-in-family</td>\n",
       "      <td>White</td>\n",
       "      <td>Female</td>\n",
       "      <td>0</td>\n",
       "      <td>0</td>\n",
       "      <td>40</td>\n",
       "      <td>United-States</td>\n",
       "      <td>0</td>\n",
       "    </tr>\n",
       "  </tbody>\n",
       "</table>\n",
       "</div>"
      ],
      "text/plain": [
       "   id  age workclass  fnlwgt     education  education.num      marital.status  \\\n",
       "0   0   32   Private  309513    Assoc-acdm             12  Married-civ-spouse   \n",
       "1   1   33   Private  205469  Some-college             10  Married-civ-spouse   \n",
       "2   2   46   Private  149949  Some-college             10  Married-civ-spouse   \n",
       "3   3   23   Private  193090     Bachelors             13       Never-married   \n",
       "4   4   55   Private   60193       HS-grad              9            Divorced   \n",
       "\n",
       "        occupation   relationship   race     sex  capital.gain  capital.loss  \\\n",
       "0     Craft-repair        Husband  White    Male             0             0   \n",
       "1  Exec-managerial        Husband  White    Male             0             0   \n",
       "2     Craft-repair        Husband  White    Male             0             0   \n",
       "3     Adm-clerical      Own-child  White  Female             0             0   \n",
       "4     Adm-clerical  Not-in-family  White  Female             0             0   \n",
       "\n",
       "   hours.per.week native.country  target  \n",
       "0              40  United-States       0  \n",
       "1              40  United-States       1  \n",
       "2              40  United-States       0  \n",
       "3              30  United-States       0  \n",
       "4              40  United-States       0  "
      ]
     },
     "execution_count": 3,
     "metadata": {},
     "output_type": "execute_result"
    }
   ],
   "source": [
    "train.head()"
   ]
  },
  {
   "cell_type": "code",
   "execution_count": 4,
   "id": "bf8c314a",
   "metadata": {},
   "outputs": [
    {
     "data": {
      "text/plain": [
       "(17480, 16)"
      ]
     },
     "execution_count": 4,
     "metadata": {},
     "output_type": "execute_result"
    }
   ],
   "source": [
    "train.shape"
   ]
  },
  {
   "cell_type": "code",
   "execution_count": 13,
   "id": "f2c533ae",
   "metadata": {},
   "outputs": [
    {
     "name": "stdout",
     "output_type": "stream",
     "text": [
      "workclass 1836\n",
      "occupation 1843\n",
      "native.country 583\n"
     ]
    }
   ],
   "source": [
    "missing = []\n",
    "\n",
    "for i in train.columns:\n",
    "    if 0 != sum(train[i].isna()):\n",
    "        print(i, sum(train[i].isna()))\n",
    "        missing.append(i)"
   ]
  },
  {
   "cell_type": "code",
   "execution_count": 27,
   "id": "5374c7b0",
   "metadata": {},
   "outputs": [],
   "source": [
    "new_df = train[train.isna().sum(axis=1) > 0]"
   ]
  },
  {
   "cell_type": "code",
   "execution_count": 25,
   "id": "3e98252c",
   "metadata": {},
   "outputs": [
    {
     "data": {
      "text/plain": [
       "Private             3925\n",
       "Self-emp-not-inc     435\n",
       "Local-gov            251\n",
       "Self-emp-inc         143\n",
       "State-gov            141\n",
       "Federal-gov          134\n",
       "Without-pay            4\n",
       "Never-worked           1\n",
       "Name: workclass, dtype: int64"
      ]
     },
     "execution_count": 25,
     "metadata": {},
     "output_type": "execute_result"
    }
   ],
   "source": [
    "train[train['education'] == 'HS-grad']['workclass'].value_counts()"
   ]
  },
  {
   "cell_type": "code",
   "execution_count": 29,
   "id": "7f669377",
   "metadata": {},
   "outputs": [
    {
     "name": "stdout",
     "output_type": "stream",
     "text": [
      "Private             382\n",
      "Local-gov            49\n",
      "Self-emp-not-inc     41\n",
      "Federal-gov          30\n",
      "Self-emp-inc         20\n",
      "State-gov            18\n",
      "Without-pay           1\n",
      "Name: workclass, dtype: int64\n",
      "Private             2566\n",
      "Self-emp-not-inc     235\n",
      "Local-gov            182\n",
      "State-gov            155\n",
      "Federal-gov          127\n",
      "Self-emp-inc         124\n",
      "Never-worked           2\n",
      "Name: workclass, dtype: int64\n",
      "Private             1813\n",
      "Local-gov            257\n",
      "Self-emp-not-inc     192\n",
      "Self-emp-inc         151\n",
      "State-gov            139\n",
      "Federal-gov          117\n",
      "Name: workclass, dtype: int64\n",
      "Private             3925\n",
      "Self-emp-not-inc     435\n",
      "Local-gov            251\n",
      "Self-emp-inc         143\n",
      "State-gov            141\n",
      "Federal-gov          134\n",
      "Without-pay            4\n",
      "Never-worked           1\n",
      "Name: workclass, dtype: int64\n",
      "Private             131\n",
      "Self-emp-not-inc     69\n",
      "Self-emp-inc         41\n",
      "State-gov            15\n",
      "Local-gov            15\n",
      "Federal-gov          12\n",
      "Name: workclass, dtype: int64\n",
      "Private             347\n",
      "Self-emp-not-inc     29\n",
      "Local-gov            13\n",
      "Self-emp-inc          9\n",
      "State-gov             8\n",
      "Federal-gov           2\n",
      "Never-worked          2\n",
      "Name: workclass, dtype: int64\n",
      "Private             466\n",
      "Self-emp-not-inc     35\n",
      "Local-gov            24\n",
      "Self-emp-inc         11\n",
      "State-gov             7\n",
      "Federal-gov           2\n",
      "Never-worked          1\n",
      "Name: workclass, dtype: int64\n",
      "Private             480\n",
      "Local-gov           162\n",
      "State-gov            90\n",
      "Self-emp-not-inc     69\n",
      "Self-emp-inc         40\n",
      "Federal-gov          32\n",
      "Name: workclass, dtype: int64\n",
      "Private             218\n",
      "Self-emp-not-inc     53\n",
      "Local-gov            19\n",
      "Self-emp-inc          8\n",
      "State-gov             4\n",
      "Federal-gov           2\n",
      "Without-pay           1\n",
      "Never-worked          1\n",
      "Name: workclass, dtype: int64\n",
      "Private             73\n",
      "Self-emp-not-inc     5\n",
      "Local-gov            3\n",
      "Self-emp-inc         2\n",
      "State-gov            1\n",
      "Name: workclass, dtype: int64\n",
      "Private             520\n",
      "Self-emp-not-inc     46\n",
      "Local-gov            40\n",
      "State-gov            24\n",
      "Federal-gov          17\n",
      "Self-emp-inc         16\n",
      "Name: workclass, dtype: int64\n",
      "Private             149\n",
      "Self-emp-not-inc      9\n",
      "Local-gov             5\n",
      "State-gov             2\n",
      "Self-emp-inc          2\n",
      "Name: workclass, dtype: int64\n",
      "Private             95\n",
      "State-gov           49\n",
      "Self-emp-not-inc    24\n",
      "Self-emp-inc        14\n",
      "Local-gov           11\n",
      "Federal-gov          6\n",
      "Name: workclass, dtype: int64\n",
      "Private             197\n",
      "Self-emp-not-inc     20\n",
      "Local-gov            14\n",
      "Self-emp-inc          8\n",
      "Federal-gov           2\n",
      "State-gov             2\n",
      "Name: workclass, dtype: int64\n",
      "Private             182\n",
      "Self-emp-not-inc     10\n",
      "Local-gov             7\n",
      "Self-emp-inc          5\n",
      "State-gov             3\n",
      "Federal-gov           2\n",
      "Name: workclass, dtype: int64\n",
      "Private      24\n",
      "State-gov     1\n",
      "Local-gov     1\n",
      "Name: workclass, dtype: int64\n"
     ]
    }
   ],
   "source": [
    "for i in train['education'].unique():\n",
    "    test = train[train['education'] == i]['workclass'].value_counts()\n",
    "    print(test)"
   ]
  },
  {
   "cell_type": "code",
   "execution_count": 32,
   "id": "1f9ed13b",
   "metadata": {},
   "outputs": [
    {
     "name": "stdout",
     "output_type": "stream",
     "text": [
      "결측치가 있는 컬럼은: workclass 입니다\n",
      "해당 컬럼에 총 1836 개의 결측치가 존재합니다.\n",
      "결측치가 있는 컬럼은: occupation 입니다\n",
      "해당 컬럼에 총 1843 개의 결측치가 존재합니다.\n",
      "결측치가 있는 컬럼은: native.country 입니다\n",
      "해당 컬럼에 총 583 개의 결측치가 존재합니다.\n",
      "결측치가 존재하지 않습니다\n"
     ]
    }
   ],
   "source": [
    "def check_missing_col(dataframe):\n",
    "    missing_col = []\n",
    "    for col in dataframe.columns:\n",
    "        missing_values = sum(dataframe[col].isna())\n",
    "        is_missing = True if missing_values >= 1 else False\n",
    "        if is_missing:\n",
    "            print(f'결측치가 있는 컬럼은: {col} 입니다')\n",
    "            print(f'해당 컬럼에 총 {missing_values} 개의 결측치가 존재합니다.')\n",
    "            missing_col.append([col, dataframe[col].dtype])\n",
    "    if missing_col == []:\n",
    "        print('결측치가 존재하지 않습니다')\n",
    "    return missing_col\n",
    "\n",
    "missing_col = check_missing_col(train)\n",
    "\n",
    "# 결측치를 처리하는 함수를 작성합니다.\n",
    "def handle_na(data, missing_col):\n",
    "    temp = data.copy()\n",
    "    for col, dtype in missing_col:\n",
    "        if dtype == 'O':\n",
    "            # 범주형 feature가 결측치인 경우 해당 행들을 삭제해 주었습니다.\n",
    "            temp = temp.dropna(subset=[col])\n",
    "    return temp\n",
    "\n",
    "train = handle_na(train, missing_col)\n",
    "\n",
    "# 결측치 처리가 잘 되었는지 확인해 줍니다.\n",
    "missing_col = check_missing_col(train)  "
   ]
  },
  {
   "cell_type": "code",
   "execution_count": 34,
   "id": "5bf3e8a3",
   "metadata": {},
   "outputs": [
    {
     "name": "stdout",
     "output_type": "stream",
     "text": [
      "결측치가 있는 컬럼은: workclass 입니다\n",
      "해당 컬럼에 총 1836 개의 결측치가 존재합니다.\n",
      "결측치가 있는 컬럼은: occupation 입니다\n",
      "해당 컬럼에 총 1843 개의 결측치가 존재합니다.\n",
      "결측치가 있는 컬럼은: native.country 입니다\n",
      "해당 컬럼에 총 583 개의 결측치가 존재합니다.\n"
     ]
    }
   ],
   "source": [
    "missing_col = check_missing_col(new_df)"
   ]
  },
  {
   "cell_type": "code",
   "execution_count": 50,
   "id": "eb791a41",
   "metadata": {},
   "outputs": [],
   "source": [
    "#라벨인코딩을 하기 위함 dictionary map 생성 함수\n",
    "def make_label_map(dataframe):\n",
    "    label_maps = {}\n",
    "    for col in dataframe.columns:\n",
    "        if dataframe[col].dtype=='object':\n",
    "            label_map = {'unknown':0}\n",
    "            for i, key in enumerate(dataframe[col].unique()):\n",
    "                label_map[key] = i  #새로 등장하는 유니크 값들에 대해 1부터 1씩 증가시켜 키값을 부여해줍니다.\n",
    "            label_maps[col] = label_map\n",
    "    return label_maps\n",
    "\n",
    "# 각 범주형 변수에 인코딩 값을 부여하는 함수\n",
    "def label_encoder(dataframe, label_map):\n",
    "    for col in dataframe.columns:\n",
    "        if dataframe[col].dtype=='object':\n",
    "            dataframe[col] = dataframe[col].map(label_map[col])\n",
    "            #dataframe[col] = dataframe[col].fillna(label_map[col]['unknown']) #혹시 모를 결측값은 unknown의 값(0)으로 채워줍니다.\n",
    "    return dataframe\n",
    "\n",
    "train = label_encoder(train, make_label_map(train))"
   ]
  },
  {
   "cell_type": "code",
   "execution_count": 98,
   "id": "6179f618",
   "metadata": {},
   "outputs": [
    {
     "data": {
      "text/plain": [
       "<AxesSubplot:>"
      ]
     },
     "execution_count": 98,
     "metadata": {},
     "output_type": "execute_result"
    },
    {
     "data": {
      "image/png": "[encoded data removed]",
      "text/plain": [
       "<Figure size 432x288 with 2 Axes>"
      ]
     },
     "metadata": {
      "needs_background": "light"
     },
     "output_type": "display_data"
    }
   ],
   "source": [
    "new = train.drop(['marital.status', 'relationship', 'sex', 'occupation', 'race'], axis=1)\n",
    "sns.heatmap(new.corr())"
   ]
  },
  {
   "cell_type": "code",
   "execution_count": 63,
   "id": "fd95cf2e",
   "metadata": {},
   "outputs": [],
   "source": [
    "X = new.drop(['id', 'target'], axis=1)\n",
    "y = new['target']"
   ]
  },
  {
   "cell_type": "code",
   "execution_count": 133,
   "id": "d2f04523",
   "metadata": {},
   "outputs": [
    {
     "data": {
      "text/plain": [
       "KNeighborsClassifier(n_neighbors=3)"
      ]
     },
     "execution_count": 133,
     "metadata": {},
     "output_type": "execute_result"
    }
   ],
   "source": [
    "from sklearn.neighbors import KNeighborsClassifier\n",
    "\n",
    "# 모델 선언\n",
    "classifier = KNeighborsClassifier(n_neighbors = 3)\n",
    "\n",
    "# 모델 학습\n",
    "classifier.fit(X, y)"
   ]
  },
  {
   "cell_type": "code",
   "execution_count": 134,
   "id": "19c50a24",
   "metadata": {},
   "outputs": [
    {
     "name": "stdout",
     "output_type": "stream",
     "text": [
      "0.8575028181155095\n"
     ]
    }
   ],
   "source": [
    "print(classifier.score(X, y))"
   ]
  },
  {
   "cell_type": "code",
   "execution_count": 135,
   "id": "1fa5535d",
   "metadata": {},
   "outputs": [],
   "source": [
    "test = pd.read_csv('./test.csv')"
   ]
  },
  {
   "cell_type": "code",
   "execution_count": 136,
   "id": "6e387327",
   "metadata": {},
   "outputs": [],
   "source": [
    "ntest = test.drop(['id', 'marital.status', 'relationship', 'sex', 'occupation', 'race'], axis=1)\n",
    "ntest = label_encoder(ntest, make_label_map(ntest))"
   ]
  },
  {
   "cell_type": "code",
   "execution_count": 137,
   "id": "53e84fac",
   "metadata": {},
   "outputs": [],
   "source": [
    "pred = classifier.predict(ntest)"
   ]
  },
  {
   "cell_type": "code",
   "execution_count": 138,
   "id": "c61cc7df",
   "metadata": {},
   "outputs": [],
   "source": [
    "submission = pd.read_csv('sample_submission.csv')"
   ]
  },
  {
   "cell_type": "code",
   "execution_count": 139,
   "id": "a3451623",
   "metadata": {},
   "outputs": [],
   "source": [
    "submission['target'] = pred\n"
   ]
  },
  {
   "cell_type": "code",
   "execution_count": 140,
   "id": "d87f2c11",
   "metadata": {},
   "outputs": [
    {
     "data": {
      "text/html": [
       "<div>\n",
       "<style scoped>\n",
       "    .dataframe tbody tr th:only-of-type {\n",
       "        vertical-align: middle;\n",
       "    }\n",
       "\n",
       "    .dataframe tbody tr th {\n",
       "        vertical-align: top;\n",
       "    }\n",
       "\n",
       "    .dataframe thead th {\n",
       "        text-align: right;\n",
       "    }\n",
       "</style>\n",
       "<table border=\"1\" class=\"dataframe\">\n",
       "  <thead>\n",
       "    <tr style=\"text-align: right;\">\n",
       "      <th></th>\n",
       "      <th>id</th>\n",
       "      <th>target</th>\n",
       "    </tr>\n",
       "  </thead>\n",
       "  <tbody>\n",
       "    <tr>\n",
       "      <th>0</th>\n",
       "      <td>0</td>\n",
       "      <td>0</td>\n",
       "    </tr>\n",
       "    <tr>\n",
       "      <th>1</th>\n",
       "      <td>1</td>\n",
       "      <td>0</td>\n",
       "    </tr>\n",
       "    <tr>\n",
       "      <th>2</th>\n",
       "      <td>2</td>\n",
       "      <td>1</td>\n",
       "    </tr>\n",
       "    <tr>\n",
       "      <th>3</th>\n",
       "      <td>3</td>\n",
       "      <td>0</td>\n",
       "    </tr>\n",
       "    <tr>\n",
       "      <th>4</th>\n",
       "      <td>4</td>\n",
       "      <td>0</td>\n",
       "    </tr>\n",
       "    <tr>\n",
       "      <th>...</th>\n",
       "      <td>...</td>\n",
       "      <td>...</td>\n",
       "    </tr>\n",
       "    <tr>\n",
       "      <th>15076</th>\n",
       "      <td>15076</td>\n",
       "      <td>1</td>\n",
       "    </tr>\n",
       "    <tr>\n",
       "      <th>15077</th>\n",
       "      <td>15077</td>\n",
       "      <td>0</td>\n",
       "    </tr>\n",
       "    <tr>\n",
       "      <th>15078</th>\n",
       "      <td>15078</td>\n",
       "      <td>0</td>\n",
       "    </tr>\n",
       "    <tr>\n",
       "      <th>15079</th>\n",
       "      <td>15079</td>\n",
       "      <td>0</td>\n",
       "    </tr>\n",
       "    <tr>\n",
       "      <th>15080</th>\n",
       "      <td>15080</td>\n",
       "      <td>1</td>\n",
       "    </tr>\n",
       "  </tbody>\n",
       "</table>\n",
       "<p>15081 rows × 2 columns</p>\n",
       "</div>"
      ],
      "text/plain": [
       "          id  target\n",
       "0          0       0\n",
       "1          1       0\n",
       "2          2       1\n",
       "3          3       0\n",
       "4          4       0\n",
       "...      ...     ...\n",
       "15076  15076       1\n",
       "15077  15077       0\n",
       "15078  15078       0\n",
       "15079  15079       0\n",
       "15080  15080       1\n",
       "\n",
       "[15081 rows x 2 columns]"
      ]
     },
     "execution_count": 140,
     "metadata": {},
     "output_type": "execute_result"
    }
   ],
   "source": [
    "submission"
   ]
  },
  {
   "cell_type": "code",
   "execution_count": null,
   "id": "4cf1b41a",
   "metadata": {},
   "outputs": [],
   "source": []
  }
 ],
 "metadata": {
  "kernelspec": {
   "display_name": "Python 3 (ipykernel)",
   "language": "python",
   "name": "python3"
  },
  "language_info": {
   "codemirror_mode": {
    "name": "ipython",
    "version": 3
   },
   "file_extension": ".py",
   "mimetype": "text/x-python",
   "name": "python",
   "nbconvert_exporter": "python",
   "pygments_lexer": "ipython3",
   "version": "3.9.7"
  }
 },
 "nbformat": 4,
 "nbformat_minor": 5
}
